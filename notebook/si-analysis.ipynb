{
 "cells": [
  {
   "cell_type": "code",
   "execution_count": null,
   "id": "6d315b59-afe9-4cce-b0fe-4f7918088346",
   "metadata": {
    "tags": []
   },
   "outputs": [],
   "source": [
    "import os\n",
    "import pandas as pd\n",
    "import requests\n",
    "\n",
    "\n",
    "df = pd.read_csv(\"../jmc-article.txt\", sep='\\t', header=None, names=[\"doi\", \"y\", \"h\", \"w\", \"subtype\", \"venue\"])\n",
    "\n",
    "def fetch_supp(batch):\n",
    "    baseurl = 'https://widgets.figshare.com/public/files?institution=acs&limit=21&offset=0&collectionResourceDOI='\n",
    "    for doi in batch:\n",
    "        sp_files = []\n",
    "        try:\n",
    "            r = requests.get(f\"{baseurl}10.1021/{doi}\")\n",
    "            if r.status_code != 200:\n",
    "                continue\n",
    "            for f in r.json()[\"files\"]:\n",
    "                durl = f[\"downloadUrl\"]\n",
    "                sp_files.append(durl)\n",
    "        except Exception as e:\n",
    "            print(f\"error {doi}, {e}\")\n",
    "        print(doi, sp_files)\n",
    "fetch_supp(df.doi)"
   ]
  },
  {
   "cell_type": "code",
   "execution_count": null,
   "id": "e202c783-6e40-446b-a258-fd194495e518",
   "metadata": {},
   "outputs": [],
   "source": [
    "for doi in df.doi:\n",
    "    cpd_path = f\"../data/{doi}.compounds.txt\"\n",
    "    doc_path = f\"../data/{doi}.document.json\"\n",
    "    tbl_path = f\"../data/{doi}.json\"\n",
    "    \n",
    "    if not os.path.exists(cpd_path):\n",
    "        print(doi)\n"
   ]
  }
 ],
 "metadata": {
  "kernelspec": {
   "display_name": "Python 3 (ipykernel)",
   "language": "python",
   "name": "python3"
  },
  "language_info": {
   "codemirror_mode": {
    "name": "ipython",
    "version": 3
   },
   "file_extension": ".py",
   "mimetype": "text/x-python",
   "name": "python",
   "nbconvert_exporter": "python",
   "pygments_lexer": "ipython3",
   "version": "3.9.13"
  }
 },
 "nbformat": 4,
 "nbformat_minor": 5
}
